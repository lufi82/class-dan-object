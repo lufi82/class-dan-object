{
  "nbformat": 4,
  "nbformat_minor": 0,
  "metadata": {
    "colab": {
      "provenance": [],
      "name": "class_mobil.ipynb",
      "include_colab_link": true
    },
    "kernelspec": {
      "name": "python3",
      "display_name": "Python 3"
    },
    "language_info": {
      "name": "python"
    }
  },
  "cells": [
    {
      "cell_type": "markdown",
      "metadata": {
        "id": "view-in-github",
        "colab_type": "text"
      },
      "source": [
        "<a href=\"https://colab.research.google.com/github/dianpranatahsb/class-dan-object/blob/main/class_mobil.ipynb\" target=\"_parent\"><img src=\"https://colab.research.google.com/assets/colab-badge.svg\" alt=\"Open In Colab\"/></a>"
      ]
    },
    {
      "cell_type": "code",
      "execution_count": 1,
      "metadata": {
        "colab": {
          "base_uri": "https://localhost:8080/"
        },
        "id": "e59GFbCMIcKC",
        "outputId": "2309cbc7-7073-448c-b1a8-74bb4fcdcd96"
      },
      "outputs": [
        {
          "output_type": "stream",
          "name": "stdout",
          "text": [
            "Mobil Toyota GR supra, keluaran tahun 2019, berwarna Putih\n",
            "Mesin Toyota GR supra dinyalakan!\n",
            "Mesin Toyota GR supra dimatikan!\n"
          ]
        }
      ],
      "source": [
        "class Mobil:\n",
        "    def __init__(self, merk, model, tahun, warna):\n",
        "        self.merk = merk\n",
        "        self.model = model\n",
        "        self.tahun = tahun\n",
        "        self.warna = warna\n",
        "\n",
        "    def info_mobil(self):\n",
        "        print(f\"Mobil {self.merk} {self.model}, keluaran tahun {self.tahun}, berwarna {self.warna}\")\n",
        "\n",
        "    def nyalakan_mesin(self):\n",
        "        print(f\"Mesin {self.merk} {self.model} dinyalakan!\")\n",
        "\n",
        "    def matikan_mesin(self):\n",
        "        print(f\"Mesin {self.merk} {self.model} dimatikan!\")\n",
        "\n",
        "mb = Mobil(\"Toyota\", \"GR supra\", 2019, \"Putih\")\n",
        "mb.info_mobil()\n",
        "mb.nyalakan_mesin()\n",
        "mb.matikan_mesin()"
      ]
    }
  ]
}