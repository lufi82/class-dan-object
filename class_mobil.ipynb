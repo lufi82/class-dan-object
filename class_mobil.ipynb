{
  "nbformat": 4,
  "nbformat_minor": 0,
  "metadata": {
    "colab": {
      "provenance": [],
      "authorship_tag": "ABX9TyOoi4OaFTr3D/0Zk+LZ1qsG",
      "include_colab_link": true
    },
    "kernelspec": {
      "name": "python3",
      "display_name": "Python 3"
    },
    "language_info": {
      "name": "python"
    }
  },
  "cells": [
    {
      "cell_type": "markdown",
      "metadata": {
        "id": "view-in-github",
        "colab_type": "text"
      },
      "source": [
        "<a href=\"https://colab.research.google.com/github/lufi82/class-dan-object/blob/main/class_mobil.ipynb\" target=\"_parent\"><img src=\"https://colab.research.google.com/assets/colab-badge.svg\" alt=\"Open In Colab\"/></a>"
      ]
    },
    {
      "cell_type": "code",
      "execution_count": 10,
      "metadata": {
        "colab": {
          "base_uri": "https://localhost:8080/"
        },
        "id": "-ET-XzkoPDc3",
        "outputId": "4a247750-fbd2-4c9d-ab69-7d518318bd2b"
      },
      "outputs": [
        {
          "output_type": "stream",
          "name": "stdout",
          "text": [
            "Mobil Toyota supra, keluaran tahun 2000, berwarna Putih\n",
            "Mesin Toyota supra dinyalakan!\n",
            "Mesin Toyota supra dimatikan!\n"
          ]
        }
      ],
      "source": [
        "class Mobil:\n",
        "    def __init__(self, merk, model, tahun, warna):\n",
        "        self.merk = merk\n",
        "        self.model = model\n",
        "        self.tahun = tahun\n",
        "        self.warna = warna\n",
        "\n",
        "    def info_mobil(self):\n",
        "        print(f\"Mobil {self.merk} {self.model}, keluaran tahun {self.tahun}, berwarna {self.warna}\")\n",
        "\n",
        "    def nyalakan_mesin(self):\n",
        "        print(f\"Mesin {self.merk} {self.model} dinyalakan!\")\n",
        "\n",
        "    def matikan_mesin(self):\n",
        "        print(f\"Mesin {self.merk} {self.model} dimatikan!\")\n",
        "\n",
        "mb = Mobil(\"Toyota\", \"supra\", 2000, \"Putih\")\n",
        "mb.info_mobil()\n",
        "mb.nyalakan_mesin()\n",
        "mb.matikan_mesin()"
      ]
    }
  ]
}