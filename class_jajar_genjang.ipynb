{
  "nbformat": 4,
  "nbformat_minor": 0,
  "metadata": {
    "colab": {
      "provenance": [],
      "authorship_tag": "ABX9TyMq35bCh3uA61Mh6+a9iosU",
      "include_colab_link": true
    },
    "kernelspec": {
      "name": "python3",
      "display_name": "Python 3"
    },
    "language_info": {
      "name": "python"
    }
  },
  "cells": [
    {
      "cell_type": "markdown",
      "metadata": {
        "id": "view-in-github",
        "colab_type": "text"
      },
      "source": [
        "<a href=\"https://colab.research.google.com/github/lufi82/class-dan-object/blob/main/class_jajar_genjang.ipynb\" target=\"_parent\"><img src=\"https://colab.research.google.com/assets/colab-badge.svg\" alt=\"Open In Colab\"/></a>"
      ]
    },
    {
      "cell_type": "code",
      "execution_count": 4,
      "metadata": {
        "colab": {
          "base_uri": "https://localhost:8080/"
        },
        "id": "-ET-XzkoPDc3",
        "outputId": "0a02c627-88bf-4719-a6d3-f62790b8f114"
      },
      "outputs": [
        {
          "output_type": "stream",
          "name": "stdout",
          "text": [
            "Jajar genjang dengan alas 9, tinggi 13, dan sisi miring 11\n",
            "Luas jajar genjang: 117\n",
            "Keliling jajar genjang: 40\n"
          ]
        }
      ],
      "source": [
        "class JajarGenjang:\n",
        "    def __init__(self, alas, tinggi, sisi_miring):\n",
        "        self.alas = alas\n",
        "        self.tinggi = tinggi\n",
        "        self.sisi_miring = sisi_miring\n",
        "\n",
        "    def hitung_luas(self):\n",
        "        return self.alas * self.tinggi\n",
        "\n",
        "    def hitung_keliling(self):\n",
        "        return 2 * (self.alas + self.sisi_miring)\n",
        "\n",
        "    def info_bentuk(self):\n",
        "        print(f\"Jajar genjang dengan alas {self.alas}, tinggi {self.tinggi}, dan sisi miring {self.sisi_miring}\")\n",
        "\n",
        "jg = JajarGenjang(9, 13, 11)\n",
        "jg.info_bentuk()\n",
        "print(f\"Luas jajar genjang: {jg.hitung_luas()}\")\n",
        "print(f\"Keliling jajar genjang: {jg.hitung_keliling()}\")\n"
      ]
    }
  ]
}