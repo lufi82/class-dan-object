{
  "nbformat": 4,
  "nbformat_minor": 0,
  "metadata": {
    "colab": {
      "provenance": [],
      "name": "class_jajar_genjang.ipynb",
      "include_colab_link": true
    },
    "kernelspec": {
      "name": "python3",
      "display_name": "Python 3"
    },
    "language_info": {
      "name": "python"
    }
  },
  "cells": [
    {
      "cell_type": "markdown",
      "metadata": {
        "id": "view-in-github",
        "colab_type": "text"
      },
      "source": [
        "<a href=\"https://colab.research.google.com/github/dianpranatahsb/class-dan-object/blob/main/class_jajar_genjang.ipynb\" target=\"_parent\"><img src=\"https://colab.research.google.com/assets/colab-badge.svg\" alt=\"Open In Colab\"/></a>"
      ]
    },
    {
      "cell_type": "code",
      "execution_count": 1,
      "metadata": {
        "colab": {
          "base_uri": "https://localhost:8080/"
        },
        "id": "VcLCeCz9RL8D",
        "outputId": "6b15fa44-9057-4f9a-91d8-c2b70c770225"
      },
      "outputs": [
        {
          "output_type": "stream",
          "name": "stdout",
          "text": [
            "Jajar genjang dengan alas 8, tinggi 12, dan sisi miring 10\n",
            "Luas jajar genjang: 96\n",
            "Keliling jajar genjang: 36\n"
          ]
        }
      ],
      "source": [
        "class JajarGenjang:\n",
        "    def __init__(self, alas, tinggi, sisi_miring):\n",
        "        self.alas = alas\n",
        "        self.tinggi = tinggi\n",
        "        self.sisi_miring = sisi_miring\n",
        "\n",
        "    def hitung_luas(self):\n",
        "        return self.alas * self.tinggi\n",
        "\n",
        "    def hitung_keliling(self):\n",
        "        return 2 * (self.alas + self.sisi_miring)\n",
        "\n",
        "    def info_bentuk(self):\n",
        "        print(f\"Jajar genjang dengan alas {self.alas}, tinggi {self.tinggi}, dan sisi miring {self.sisi_miring}\")\n",
        "\n",
        "jg = JajarGenjang(8, 12, 10)\n",
        "jg.info_bentuk()\n",
        "print(f\"Luas jajar genjang: {jg.hitung_luas()}\")\n",
        "print(f\"Keliling jajar genjang: {jg.hitung_keliling()}\")\n"
      ]
    }
  ]
}