{
  "nbformat": 4,
  "nbformat_minor": 0,
  "metadata": {
    "colab": {
      "provenance": [],
      "authorship_tag": "ABX9TyPpN4xnQEVAAM0l1Nod3ckx",
      "include_colab_link": true
    },
    "kernelspec": {
      "name": "python3",
      "display_name": "Python 3"
    },
    "language_info": {
      "name": "python"
    }
  },
  "cells": [
    {
      "cell_type": "markdown",
      "metadata": {
        "id": "view-in-github",
        "colab_type": "text"
      },
      "source": [
        "<a href=\"https://colab.research.google.com/github/lufi82/class-dan-object/blob/main/class_komputer.ipynb\" target=\"_parent\"><img src=\"https://colab.research.google.com/assets/colab-badge.svg\" alt=\"Open In Colab\"/></a>"
      ]
    },
    {
      "cell_type": "code",
      "execution_count": 5,
      "metadata": {
        "colab": {
          "base_uri": "https://localhost:8080/"
        },
        "id": "-ET-XzkoPDc3",
        "outputId": "175d0194-3261-4493-b3f6-7f338238d464"
      },
      "outputs": [
        {
          "output_type": "stream",
          "name": "stdout",
          "text": [
            "Komputer merek Asus dengan spesifikasi Core i7 24GB RAM\n"
          ]
        }
      ],
      "source": [
        "class Komputer:\n",
        "    def __init__(self, merek, spesifikasi):\n",
        "        self.merek = merek\n",
        "        self.spesifikasi = spesifikasi\n",
        "\n",
        "    def info_komputer(self):\n",
        "        print(f\"Komputer merek {self.merek} dengan spesifikasi {self.spesifikasi}\")\n",
        "\n",
        "kp = Komputer(\"Asus\", \"Core i7 24GB RAM\")\n",
        "kp.info_komputer()"
      ]
    }
  ]
}