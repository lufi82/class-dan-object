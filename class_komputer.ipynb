{
  "nbformat": 4,
  "nbformat_minor": 0,
  "metadata": {
    "colab": {
      "provenance": [],
      "name": "class_komputer.ipynb",
      "include_colab_link": true
    },
    "kernelspec": {
      "name": "python3",
      "display_name": "Python 3"
    },
    "language_info": {
      "name": "python"
    }
  },
  "cells": [
    {
      "cell_type": "markdown",
      "metadata": {
        "id": "view-in-github",
        "colab_type": "text"
      },
      "source": [
        "<a href=\"https://colab.research.google.com/github/dianpranatahsb/class-dan-object/blob/main/class_komputer.ipynb\" target=\"_parent\"><img src=\"https://colab.research.google.com/assets/colab-badge.svg\" alt=\"Open In Colab\"/></a>"
      ]
    },
    {
      "cell_type": "code",
      "execution_count": null,
      "metadata": {
        "colab": {
          "base_uri": "https://localhost:8080/"
        },
        "id": "nX4_UaXxP6ZD",
        "outputId": "356f0f88-f410-4c13-b785-d10e0aed5e32"
      },
      "outputs": [
        {
          "output_type": "stream",
          "name": "stdout",
          "text": [
            "Komputer merek Acer dengan spesifikasi Core i9 12GB RAM\n"
          ]
        }
      ],
      "source": [
        "class Komputer:\n",
        "    def __init__(self, merek, spesifikasi):\n",
        "        self.merek = merek\n",
        "        self.spesifikasi = spesifikasi\n",
        "\n",
        "    def info_komputer(self):\n",
        "        print(f\"Komputer merek {self.merek} dengan spesifikasi {self.spesifikasi}\")\n",
        "\n",
        "kp = Komputer(\"Acer\", \"Core i9 12GB RAM\")\n",
        "kp.info_komputer()"
      ]
    }
  ]
}