{
  "nbformat": 4,
  "nbformat_minor": 0,
  "metadata": {
    "colab": {
      "provenance": [],
      "name": "class_buku.ipynb",
      "include_colab_link": true
    },
    "kernelspec": {
      "name": "python3",
      "display_name": "Python 3"
    },
    "language_info": {
      "name": "python"
    }
  },
  "cells": [
    {
      "cell_type": "markdown",
      "metadata": {
        "id": "view-in-github",
        "colab_type": "text"
      },
      "source": [
        "<a href=\"https://colab.research.google.com/github/dianpranatahsb/class-dan-object/blob/main/class_buku.ipynb\" target=\"_parent\"><img src=\"https://colab.research.google.com/assets/colab-badge.svg\" alt=\"Open In Colab\"/></a>"
      ]
    },
    {
      "cell_type": "code",
      "execution_count": 5,
      "metadata": {
        "colab": {
          "base_uri": "https://localhost:8080/"
        },
        "id": "nILBUiVaJ8bv",
        "outputId": "687eaecd-ca4e-4a92-f0a7-3989e88360a3"
      },
      "outputs": [
        {
          "output_type": "stream",
          "name": "stdout",
          "text": [
            "Judul: rudi habibie\n",
            "Penulis: Gina S. Noer\n",
            "harga: 200.0\n"
          ]
        }
      ],
      "source": [
        "class Buku:\n",
        "    def __init__(self, judul, penulis, harga):\n",
        "        self.judul = judul\n",
        "        self.penulis = penulis\n",
        "        self.harga = harga\n",
        "\n",
        "    def info_buku(self):\n",
        "        print(f\"Judul: {self.judul}\")\n",
        "        print(f\"Penulis: {self.penulis}\")\n",
        "        print(f\"harga: {self.harga}\")\n",
        "\n",
        "\n",
        "buku1 = Buku(\"rudi habibie\", \"Gina S. Noer\", 200.000)\n",
        "buku1.info_buku()"
      ]
    }
  ]
}