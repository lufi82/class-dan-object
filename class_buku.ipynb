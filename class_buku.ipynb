{
  "nbformat": 4,
  "nbformat_minor": 0,
  "metadata": {
    "colab": {
      "provenance": [],
      "authorship_tag": "ABX9TyM25mExYnx0xrx2JsyrqKx6",
      "include_colab_link": true
    },
    "kernelspec": {
      "name": "python3",
      "display_name": "Python 3"
    },
    "language_info": {
      "name": "python"
    }
  },
  "cells": [
    {
      "cell_type": "markdown",
      "metadata": {
        "id": "view-in-github",
        "colab_type": "text"
      },
      "source": [
        "<a href=\"https://colab.research.google.com/github/lufi82/class-dan-object/blob/main/class_buku.ipynb\" target=\"_parent\"><img src=\"https://colab.research.google.com/assets/colab-badge.svg\" alt=\"Open In Colab\"/></a>"
      ]
    },
    {
      "cell_type": "code",
      "execution_count": 1,
      "metadata": {
        "id": "-ET-XzkoPDc3",
        "outputId": "a8ea936e-bc04-4cc8-981e-95bb2371b24d",
        "colab": {
          "base_uri": "https://localhost:8080/"
        }
      },
      "outputs": [
        {
          "output_type": "stream",
          "name": "stdout",
          "text": [
            "Judul: rusdi makan seblak\n",
            "Penulis: andre\n",
            "harga: 200.0\n"
          ]
        }
      ],
      "source": [
        "class Buku:\n",
        "    def __init__(self, judul, penulis, harga):\n",
        "        self.judul = judul\n",
        "        self.penulis = penulis\n",
        "        self.harga = harga\n",
        "\n",
        "    def info_buku(self):\n",
        "        print(f\"Judul: {self.judul}\")\n",
        "        print(f\"Penulis: {self.penulis}\")\n",
        "        print(f\"harga: {self.harga}\")\n",
        "\n",
        "\n",
        "buku1 = Buku(\"rusdi makan seblak\", \"andre\", 200.000)\n",
        "buku1.info_buku()"
      ]
    }
  ]
}